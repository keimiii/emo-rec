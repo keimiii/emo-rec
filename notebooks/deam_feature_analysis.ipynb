{
 "cells": [
  {
   "cell_type": "markdown",
   "id": "b819e3c9",
   "metadata": {},
   "source": [
    "Calculate the correlation between each feature and the valence and arousal means to determine the more important features."
   ]
  },
  {
   "cell_type": "code",
   "execution_count": 1,
   "id": "26cb18b4",
   "metadata": {},
   "outputs": [],
   "source": [
    "import pandas as pd"
   ]
  },
  {
   "cell_type": "code",
   "execution_count": 4,
   "id": "16b91ebf",
   "metadata": {},
   "outputs": [],
   "source": [
    "features_file = '../data/combined_features_scores.csv'\n",
    "\n",
    "# Read the averaged features\n",
    "features_df = pd.read_csv(features_file)"
   ]
  },
  {
   "cell_type": "code",
   "execution_count": 5,
   "id": "b471a56b",
   "metadata": {},
   "outputs": [],
   "source": [
    "# Exclude target column from feature set\n",
    "score_columns = ['song_id', ' valence_mean', ' valence_std', ' arousal_mean', ' arousal_std']\n",
    "feature_cols = [col for col in features_df.columns if col not in score_columns]"
   ]
  },
  {
   "cell_type": "markdown",
   "id": "b21db1c0",
   "metadata": {},
   "source": [
    "### Valence\n",
    "Start by computing the Pearson correlation scores for feature columns."
   ]
  },
  {
   "cell_type": "code",
   "execution_count": 6,
   "id": "901b4b86",
   "metadata": {},
   "outputs": [
    {
     "name": "stdout",
     "output_type": "stream",
     "text": [
      "                                              Pearson_corr\n",
      "audspec_lengthL1norm_sma_de_stddev                0.501772\n",
      "audspec_lengthL1norm_sma_amean                    0.481517\n",
      "logHNR_sma_stddev                                 0.442174\n",
      "audspec_lengthL1norm_sma_stddev                   0.417220\n",
      "pcm_fftMag_spectralFlux_sma_de_stddev             0.413104\n",
      "pcm_fftMag_spectralRollOff90.0_sma_de_stddev      0.393641\n",
      "pcm_fftMag_spectralFlux_sma_amean                 0.393134\n",
      "pcm_fftMag_spectralRollOff90.0_sma_stddev         0.391356\n",
      "pcm_zcr_sma_de_stddev                             0.383540\n",
      "pcm_fftMag_spectralRollOff90.0_sma_amean          0.383252\n"
     ]
    }
   ],
   "source": [
    "# Compute correlations\n",
    "correlations = {}\n",
    "for col in feature_cols:\n",
    "    correlations[col] = features_df[col].corr(features_df[\" valence_mean\"], method=\"pearson\")\n",
    "\n",
    "# Convert to DataFrame for readability\n",
    "corr_df = pd.DataFrame.from_dict(correlations, orient=\"index\", columns=[\"Pearson_corr\"])\n",
    "corr_df = corr_df.sort_values(by=\"Pearson_corr\", ascending=False)\n",
    "\n",
    "print(corr_df.head(10))"
   ]
  },
  {
   "cell_type": "markdown",
   "id": "21925974",
   "metadata": {},
   "source": [
    "If we look at the combined_features_scores dataframe, we can see that most of the features are not normally distributed. So instead of just Pearson, we also check the Spearman correlation coefficients to perform feature analysis."
   ]
  },
  {
   "cell_type": "code",
   "execution_count": 34,
   "id": "de90640e",
   "metadata": {},
   "outputs": [
    {
     "name": "stdout",
     "output_type": "stream",
     "text": [
      "                                              Spearman_corr\n",
      "audspec_lengthL1norm_sma_de_stddev                 0.553357\n",
      "pcm_fftMag_spectralEntropy_sma_de_stddev           0.499674\n",
      "pcm_fftMag_spectralVariance_sma_amean              0.491416\n",
      "pcm_fftMag_psySharpness_sma_de_stddev              0.490746\n",
      "pcm_fftMag_spectralCentroid_sma_de_stddev          0.485142\n",
      "pcm_fftMag_spectralRollOff90.0_sma_de_stddev       0.480478\n",
      "pcm_zcr_sma_de_stddev                              0.479764\n",
      "audspec_lengthL1norm_sma_amean                     0.478373\n",
      "logHNR_sma_stddev                                  0.467139\n",
      "pcm_fftMag_spectralFlux_sma_de_stddev              0.465329\n",
      "pcm_fftMag_spectralRollOff75.0_sma_de_stddev       0.463878\n",
      "pcm_fftMag_spectralRollOff90.0_sma_stddev          0.457785\n",
      "pcm_fftMag_spectralVariance_sma_de_stddev          0.457591\n",
      "pcm_fftMag_psySharpness_sma_stddev                 0.453474\n",
      "pcm_fftMag_spectralCentroid_sma_stddev             0.452366\n",
      "                                           Spearman_corr\n",
      "shimmerLocal_sma_amean                         -0.213948\n",
      "pcm_fftMag_spectralKurtosis_sma_de_stddev      -0.215701\n",
      "F0final_sma_amean                              -0.232032\n",
      "pcm_fftMag_spectralSkewness_sma_amean          -0.236416\n",
      "pcm_fftMag_spectralKurtosis_sma_stddev         -0.239105\n",
      "pcm_fftMag_spectralSlope_sma_amean             -0.285858\n",
      "pcm_fftMag_spectralKurtosis_sma_amean          -0.308406\n",
      "voicingFinalUnclipped_sma_amean                -0.352158\n",
      "logHNR_sma_amean                               -0.404365\n",
      "pcm_fftMag_mfcc_sma[1]_amean                   -0.518865\n"
     ]
    }
   ],
   "source": [
    "# Compute correlations\n",
    "correlations = {}\n",
    "for col in feature_cols:\n",
    "    correlations[col] = features_df[col].corr(features_df[\" valence_mean\"], method=\"spearman\")\n",
    "\n",
    "# Convert to DataFrame for readability\n",
    "corr_df = pd.DataFrame.from_dict(correlations, orient=\"index\", columns=[\"Spearman_corr\"])\n",
    "corr_df = corr_df.sort_values(by=\"Spearman_corr\", ascending=False)\n",
    "\n",
    "print(corr_df.head(15))\n",
    "\n",
    "print(corr_df.tail(10))"
   ]
  },
  {
   "cell_type": "markdown",
   "id": "82e8fe2d",
   "metadata": {},
   "source": [
    "## Arousal"
   ]
  },
  {
   "cell_type": "code",
   "execution_count": 8,
   "id": "56a1f274",
   "metadata": {},
   "outputs": [
    {
     "name": "stdout",
     "output_type": "stream",
     "text": [
      "                                              Pearson_corr\n",
      "logHNR_sma_stddev                                 0.488601\n",
      "audspec_lengthL1norm_sma_de_stddev                0.476519\n",
      "audspec_lengthL1norm_sma_amean                    0.431377\n",
      "pcm_zcr_sma_amean                                 0.426807\n",
      "pcm_fftMag_spectralRollOff90.0_sma_amean          0.420858\n",
      "pcm_fftMag_spectralVariance_sma_amean             0.418729\n",
      "pcm_fftMag_spectralRollOff90.0_sma_de_stddev      0.416844\n",
      "pcm_fftMag_spectralRollOff90.0_sma_stddev         0.406181\n",
      "pcm_fftMag_spectralFlux_sma_de_stddev             0.401050\n",
      "pcm_zcr_sma_de_stddev                             0.400079\n"
     ]
    }
   ],
   "source": [
    "# Compute correlations\n",
    "correlations = {}\n",
    "for col in feature_cols:\n",
    "    correlations[col] = features_df[col].corr(features_df[\" arousal_mean\"], method=\"pearson\")\n",
    "\n",
    "# Convert to DataFrame for readability\n",
    "corr_df = pd.DataFrame.from_dict(correlations, orient=\"index\", columns=[\"Pearson_corr\"])\n",
    "corr_df = corr_df.sort_values(by=\"Pearson_corr\", ascending=False)\n",
    "\n",
    "print(corr_df.head(10))"
   ]
  },
  {
   "cell_type": "code",
   "execution_count": 33,
   "id": "da1d79f7",
   "metadata": {},
   "outputs": [
    {
     "name": "stdout",
     "output_type": "stream",
     "text": [
      "                                              Spearman_corr\n",
      "pcm_fftMag_spectralVariance_sma_amean              0.561099\n",
      "pcm_fftMag_spectralEntropy_sma_de_stddev           0.544063\n",
      "audspec_lengthL1norm_sma_amean                     0.539378\n",
      "audspec_lengthL1norm_sma_de_stddev                 0.518857\n",
      "pcm_zcr_sma_amean                                  0.513950\n",
      "logHNR_sma_stddev                                  0.512589\n",
      "pcm_fftMag_psySharpness_sma_de_stddev              0.510206\n",
      "pcm_fftMag_spectralCentroid_sma_de_stddev          0.505381\n",
      "pcm_fftMag_spectralRollOff90.0_sma_de_stddev       0.503448\n",
      "pcm_fftMag_spectralRollOff90.0_sma_amean           0.497857\n",
      "pcm_zcr_sma_de_stddev                              0.493612\n",
      "pcm_fftMag_spectralRollOff75.0_sma_de_stddev       0.490480\n",
      "pcm_fftMag_spectralRollOff90.0_sma_stddev          0.478314\n",
      "pcm_fftMag_spectralVariance_sma_de_stddev          0.475591\n",
      "pcm_fftMag_spectralCentroid_sma_stddev             0.465296\n",
      "                                           Spearman_corr\n",
      "pcm_fftMag_spectralKurtosis_sma_de_stddev      -0.245988\n",
      "F0final_sma_amean                              -0.254109\n",
      "pcm_fftMag_spectralKurtosis_sma_stddev         -0.269628\n",
      "shimmerLocal_sma_amean                         -0.272812\n",
      "pcm_fftMag_spectralSkewness_sma_amean          -0.281884\n",
      "pcm_fftMag_spectralSlope_sma_amean             -0.320135\n",
      "pcm_fftMag_spectralKurtosis_sma_amean          -0.339730\n",
      "voicingFinalUnclipped_sma_amean                -0.415127\n",
      "logHNR_sma_amean                               -0.476292\n",
      "pcm_fftMag_mfcc_sma[1]_amean                   -0.563144\n"
     ]
    }
   ],
   "source": [
    "# Compute correlations\n",
    "correlations = {}\n",
    "for col in feature_cols:\n",
    "    correlations[col] = features_df[col].corr(features_df[\" arousal_mean\"], method=\"spearman\")\n",
    "\n",
    "# Convert to DataFrame for readability\n",
    "corr_df = pd.DataFrame.from_dict(correlations, orient=\"index\", columns=[\"Spearman_corr\"])\n",
    "corr_df = corr_df.sort_values(by=\"Spearman_corr\", ascending=False)\n",
    "\n",
    "print(corr_df.head(15))\n",
    "\n",
    "print(corr_df.tail(10))"
   ]
  },
  {
   "cell_type": "markdown",
   "id": "1ae26066",
   "metadata": {},
   "source": [
    "It is observed that the top correlation scores computed are all less than 0.6. The next step is to perform dimensionality reduction to investigate underlying factors."
   ]
  },
  {
   "cell_type": "markdown",
   "id": "454a9721",
   "metadata": {},
   "source": [
    "## PCA Analysis"
   ]
  },
  {
   "cell_type": "code",
   "execution_count": 20,
   "id": "722c837d",
   "metadata": {},
   "outputs": [],
   "source": [
    "from sklearn.decomposition import PCA\n",
    "from sklearn.preprocessing import StandardScaler\n",
    "import matplotlib.pyplot as plt"
   ]
  },
  {
   "cell_type": "code",
   "execution_count": 21,
   "id": "454aec43",
   "metadata": {},
   "outputs": [],
   "source": [
    "x = features_df.loc[:, feature_cols].values\n",
    "x = StandardScaler().fit_transform(x) # normalizing the features"
   ]
  },
  {
   "cell_type": "code",
   "execution_count": 22,
   "id": "fd56ae56",
   "metadata": {},
   "outputs": [
    {
     "data": {
      "text/plain": [
       "(1802, 261)"
      ]
     },
     "execution_count": 22,
     "metadata": {},
     "output_type": "execute_result"
    }
   ],
   "source": [
    "x.shape"
   ]
  },
  {
   "cell_type": "code",
   "execution_count": 27,
   "id": "4ebb0f1d",
   "metadata": {},
   "outputs": [],
   "source": [
    "pca = PCA(n_components=5)\n",
    "pca_components = pca.fit_transform(x)"
   ]
  },
  {
   "cell_type": "code",
   "execution_count": 28,
   "id": "7b60292f",
   "metadata": {},
   "outputs": [
    {
     "data": {
      "application/vnd.microsoft.datawrangler.viewer.v0+json": {
       "columns": [
        {
         "name": "index",
         "rawType": "int64",
         "type": "integer"
        },
        {
         "name": "PC1",
         "rawType": "float64",
         "type": "float"
        },
        {
         "name": "PC2",
         "rawType": "float64",
         "type": "float"
        },
        {
         "name": "PC3",
         "rawType": "float64",
         "type": "float"
        },
        {
         "name": "PC4",
         "rawType": "float64",
         "type": "float"
        },
        {
         "name": "PC5",
         "rawType": "float64",
         "type": "float"
        }
       ],
       "ref": "00416387-aa5d-441c-be59-2121a750ea40",
       "rows": [
        [
         "1797",
         "0.6829463927157344",
         "-6.51767693677634",
         "2.211250721689932",
         "0.049311135388381805",
         "0.6173217481568924"
        ],
        [
         "1798",
         "9.166551537968063",
         "6.928986192118254",
         "-2.9434681393363302",
         "0.8980383119160281",
         "0.3571426080717104"
        ],
        [
         "1799",
         "1.0039153802645417",
         "-0.602328430634567",
         "0.18322534434090237",
         "-1.881518446595876",
         "-0.5486719645342649"
        ],
        [
         "1800",
         "-0.4007040578982306",
         "1.2329701460423763",
         "-1.8902566159399894",
         "3.780308951647817",
         "2.4306404915532305"
        ],
        [
         "1801",
         "-1.985405752164948",
         "-1.403166460182247",
         "-0.6179120228636322",
         "1.992864236945136",
         "2.693162076551916"
        ]
       ],
       "shape": {
        "columns": 5,
        "rows": 5
       }
      },
      "text/html": [
       "<div>\n",
       "<style scoped>\n",
       "    .dataframe tbody tr th:only-of-type {\n",
       "        vertical-align: middle;\n",
       "    }\n",
       "\n",
       "    .dataframe tbody tr th {\n",
       "        vertical-align: top;\n",
       "    }\n",
       "\n",
       "    .dataframe thead th {\n",
       "        text-align: right;\n",
       "    }\n",
       "</style>\n",
       "<table border=\"1\" class=\"dataframe\">\n",
       "  <thead>\n",
       "    <tr style=\"text-align: right;\">\n",
       "      <th></th>\n",
       "      <th>PC1</th>\n",
       "      <th>PC2</th>\n",
       "      <th>PC3</th>\n",
       "      <th>PC4</th>\n",
       "      <th>PC5</th>\n",
       "    </tr>\n",
       "  </thead>\n",
       "  <tbody>\n",
       "    <tr>\n",
       "      <th>1797</th>\n",
       "      <td>0.682946</td>\n",
       "      <td>-6.517677</td>\n",
       "      <td>2.211251</td>\n",
       "      <td>0.049311</td>\n",
       "      <td>0.617322</td>\n",
       "    </tr>\n",
       "    <tr>\n",
       "      <th>1798</th>\n",
       "      <td>9.166552</td>\n",
       "      <td>6.928986</td>\n",
       "      <td>-2.943468</td>\n",
       "      <td>0.898038</td>\n",
       "      <td>0.357143</td>\n",
       "    </tr>\n",
       "    <tr>\n",
       "      <th>1799</th>\n",
       "      <td>1.003915</td>\n",
       "      <td>-0.602328</td>\n",
       "      <td>0.183225</td>\n",
       "      <td>-1.881518</td>\n",
       "      <td>-0.548672</td>\n",
       "    </tr>\n",
       "    <tr>\n",
       "      <th>1800</th>\n",
       "      <td>-0.400704</td>\n",
       "      <td>1.232970</td>\n",
       "      <td>-1.890257</td>\n",
       "      <td>3.780309</td>\n",
       "      <td>2.430640</td>\n",
       "    </tr>\n",
       "    <tr>\n",
       "      <th>1801</th>\n",
       "      <td>-1.985406</td>\n",
       "      <td>-1.403166</td>\n",
       "      <td>-0.617912</td>\n",
       "      <td>1.992864</td>\n",
       "      <td>2.693162</td>\n",
       "    </tr>\n",
       "  </tbody>\n",
       "</table>\n",
       "</div>"
      ],
      "text/plain": [
       "           PC1       PC2       PC3       PC4       PC5\n",
       "1797  0.682946 -6.517677  2.211251  0.049311  0.617322\n",
       "1798  9.166552  6.928986 -2.943468  0.898038  0.357143\n",
       "1799  1.003915 -0.602328  0.183225 -1.881518 -0.548672\n",
       "1800 -0.400704  1.232970 -1.890257  3.780309  2.430640\n",
       "1801 -1.985406 -1.403166 -0.617912  1.992864  2.693162"
      ]
     },
     "execution_count": 28,
     "metadata": {},
     "output_type": "execute_result"
    }
   ],
   "source": [
    "pca_df = pd.DataFrame(data = pca_components\n",
    "             , columns = ['PC1', 'PC2', 'PC3', 'PC4', 'PC5'])\n",
    "pca_df.tail()"
   ]
  },
  {
   "cell_type": "code",
   "execution_count": 29,
   "id": "75abf5f6",
   "metadata": {},
   "outputs": [
    {
     "name": "stdout",
     "output_type": "stream",
     "text": [
      "Explained variability per principal component: [0.2969799  0.09378534 0.08328836 0.05999501 0.04804354]\n"
     ]
    }
   ],
   "source": [
    "print('Explained variability per principal component: {}'.format(pca.explained_variance_ratio_))"
   ]
  },
  {
   "cell_type": "markdown",
   "id": "f7b77781",
   "metadata": {},
   "source": [
    "## Factor Analysis"
   ]
  },
  {
   "cell_type": "code",
   "execution_count": 31,
   "id": "d479af0f",
   "metadata": {},
   "outputs": [
    {
     "name": "stdout",
     "output_type": "stream",
     "text": [
      "Chi-square value: inf\n",
      "P-value: 0.0\n"
     ]
    }
   ],
   "source": [
    "# Apply Bartlett's test\n",
    "from factor_analyzer.factor_analyzer import calculate_bartlett_sphericity\n",
    "chi_square_value, p_value = calculate_bartlett_sphericity(features_df)\n",
    "print(f'Chi-square value: {chi_square_value}\\nP-value: {p_value}')"
   ]
  },
  {
   "cell_type": "markdown",
   "id": "7a8ba0bb",
   "metadata": {},
   "source": [
    "We see that the p-value is <0.05, which indicates that the test has failed."
   ]
  }
 ],
 "metadata": {
  "kernelspec": {
   "display_name": "Python 3",
   "language": "python",
   "name": "python3"
  },
  "language_info": {
   "codemirror_mode": {
    "name": "ipython",
    "version": 3
   },
   "file_extension": ".py",
   "mimetype": "text/x-python",
   "name": "python",
   "nbconvert_exporter": "python",
   "pygments_lexer": "ipython3",
   "version": "3.12.8"
  }
 },
 "nbformat": 4,
 "nbformat_minor": 5
}
